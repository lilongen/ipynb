{
 "cells": [
  {
   "cell_type": "code",
   "execution_count": 1,
   "metadata": {},
   "outputs": [],
   "source": [
    "__doc = \"\"\"\n",
    "UTF-8 Encoding\n",
    "https://www.fileformat.info/info/unicode/utf8.htm\n",
    "https://www.ietf.org/rfc/rfc3629.txt\n",
    "\n",
    "Summary\n",
    "UTF-8 is a compromise character encoding that can be as compact as ASCII (if the file is just plain English text) \n",
    "but can also contain any unicode characters (with some increase in file size).\n",
    "\n",
    "UTF stands for Unicode Transformation Format. The '8' means it uses 8-bit blocks to represent a character. \n",
    "The number of blocks needed to represent a character varies from 1 to 4.\n",
    "\n",
    "One of the really nice features of UTF-8 is that it is compatible with nul-terminated strings. \n",
    "No character will have a nul (0) byte when encoded. This means that C code that deals with char[] will \"just work\".\n",
    "\n",
    "Detail\n",
    "For any character equal to or below 127 (hex 0x7F), the UTF-8 representation is one byte. \n",
    "It is just the lowest 7 bits of the full unicode value. This is also the same as the ASCII value.\n",
    "\n",
    "For characters equal to or below 2047 (hex 0x07FF), the UTF-8 representation is spread across two bytes. \n",
    "The first byte will have the two high bits set and the third bit clear (i.e. 0xC2 to 0xDF). \n",
    "The second byte will have the top bit set and the second bit clear (i.e. 0x80 to 0xBF).\n",
    "\n",
    "For all characters equal to or greater than 2048 but less that 65535 (0xFFFF), \n",
    "the UTF-8 representation is spread across three bytes.\n",
    "\n",
    "The following table shows the format of such UTF-8 byte sequences \n",
    "(where the \"free bits\" shown by x's in the table are combined in the order shown, \n",
    "and interpreted from most significant to least significant).\n",
    "\n",
    "Binary format of bytes in sequence\n",
    "1st Byte\t2nd Byte\t3rd Byte\t4th Byte\tNumber of Free Bits\tMaximum Expressible Unicode Value\n",
    "0xxxxxxx\t\t\t\t                        7\t                007F   hex (127)\n",
    "110xxxxx\t10xxxxxx\t\t\t                (5+6)=11\t        07FF   hex (2047)\n",
    "1110xxxx\t10xxxxxx\t10xxxxxx\t\t        (4+6+6)=16\t        FFFF   hex (65535)\n",
    "11110xxx\t10xxxxxx\t10xxxxxx\t10xxxxxx\t(3+6+6+6)=21\t    10FFFF hex (1,114,111)\n",
    "\n",
    "The value of each individual byte indicates its UTF-8 function, as follows:\n",
    "00 to 7F hex (0 to 127):   first and only byte of a sequence.\n",
    "80 to BF hex (128 to 191): continuing byte in a multi-byte sequence.\n",
    "C2 to DF hex (194 to 223): first byte of a two-byte sequence.\n",
    "E0 to EF hex (224 to 239): first byte of a three-byte sequence.\n",
    "F0 to FF hex (240 to 255): first byte of a four-byte sequence.\n",
    "\n",
    "UTF-8 remains a simple, single-byte, ASCII-compatible encoding method, \n",
    "as long as no characters greater than 127 are directly present. \n",
    "This means that an HTML document technically declared to be encoded as UTF-8 can remain a normal single-byte ASCII file. \n",
    "The document can remain so even though it may contain Unicode characters above 127, \n",
    "as long as all characters above 127 are referred to indirectly by ampersand entities.\n",
    "\n",
    "Examples of encoded Unicode characters (in hexadecimal notation)\n",
    "16-bit  UTF-8 \n",
    "Unicode\tSequence\n",
    "0001\t01\n",
    "007F\t7F\n",
    "0080\tC2 80\n",
    "07FF\tDF BF\n",
    "0800\tE0 A0 80\n",
    "FFFF\tEF BF BF\n",
    "010000\tF0 90 80 80\n",
    "10FFFF\tF4 8F BF BF\n",
    "\"\"\""
   ]
  },
  {
   "cell_type": "code",
   "execution_count": 21,
   "metadata": {},
   "outputs": [
    {
     "output_type": "stream",
     "name": "stdout",
     "text": "utf8 sequence:\n================================\n2 bytes: ('0xC0', '0xDF') - 110xxxxx 10xxxxxx\n3 bytes: ('0xE0', '0xEF') - 1110xxxx 10xxxxxx 10xxxxxx\n4 bytes: ('0xF0', '0xF7') - 11110xxx 10xxxxxx 10xxxxxx 10xxxxxx\n"
    }
   ],
   "source": [
    "def byte_bin2hex(s):\n",
    "    h = hex(int(s, 2))\n",
    "    return h[0:2] + h[2:].upper()\n",
    "\n",
    "\n",
    "print('utf8 sequence:')\n",
    "print('================================')\n",
    "continuing_byte = ' 10xxxxxx'\n",
    "for i in range(2,5):\n",
    "    first_byte_leading_bit = '1' * i + '0'\n",
    "    left_bit = 8 - len(first_byte_leading_bit)\n",
    "    first_byte_illustrate = first_byte_leading_bit + 'x' * left_bit\n",
    "    first_byte_min = first_byte_leading_bit + '0' * left_bit\n",
    "    first_byte_max = first_byte_leading_bit + '1' * left_bit\n",
    "    utf8_first_byte_range = (byte_bin2hex(first_byte_min), byte_bin2hex(first_byte_max))\n",
    "    utf8_sequence = f'{first_byte_illustrate}{continuing_byte*(i-1)}'\n",
    "    print(f'{i} bytes: {utf8_first_byte_range} - {utf8_sequence}')"
   ]
  },
  {
   "cell_type": "code",
   "execution_count": null,
   "metadata": {},
   "outputs": [],
   "source": []
  },
  {
   "cell_type": "code",
   "execution_count": null,
   "metadata": {},
   "outputs": [],
   "source": []
  },
  {
   "cell_type": "code",
   "execution_count": null,
   "metadata": {},
   "outputs": [],
   "source": []
  },
  {
   "cell_type": "code",
   "execution_count": null,
   "metadata": {},
   "outputs": [],
   "source": []
  },
  {
   "cell_type": "code",
   "execution_count": null,
   "metadata": {},
   "outputs": [],
   "source": []
  },
  {
   "cell_type": "code",
   "execution_count": null,
   "metadata": {},
   "outputs": [],
   "source": []
  },
  {
   "cell_type": "code",
   "execution_count": null,
   "metadata": {},
   "outputs": [],
   "source": []
  },
  {
   "cell_type": "code",
   "execution_count": null,
   "metadata": {},
   "outputs": [],
   "source": []
  }
 ],
 "metadata": {
  "language_info": {
   "codemirror_mode": {
    "name": "ipython",
    "version": 3
   },
   "file_extension": ".py",
   "mimetype": "text/x-python",
   "name": "python",
   "nbconvert_exporter": "python",
   "pygments_lexer": "ipython3",
   "version": "3.7.1-final"
  },
  "orig_nbformat": 2,
  "kernelspec": {
   "name": "python3",
   "display_name": "Python 3"
  }
 },
 "nbformat": 4,
 "nbformat_minor": 2
}