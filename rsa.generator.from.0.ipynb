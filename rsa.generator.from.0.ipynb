{
 "cells": [
  {
   "cell_type": "code",
   "execution_count": 38,
   "metadata": {},
   "outputs": [],
   "source": [
    "def gcd(x, y):\n",
    "   while(y):\n",
    "       x, y = y, x % y\n",
    "        \n",
    "   return x\n",
    "    \n",
    "def lcm(x, y):\n",
    "   return (x * y) // gcd(x, y)"
   ]
  },
  {
   "cell_type": "code",
   "execution_count": 40,
   "metadata": {},
   "outputs": [],
   "source": [
    "def get_l(p, q):\n",
    "    return lcm(p - 1, q - 1)"
   ]
  },
  {
   "cell_type": "code",
   "execution_count": 81,
   "metadata": {},
   "outputs": [],
   "source": [
    "def get_e(l):\n",
    "    for e in range(2, l):\n",
    "        if math.gcd(e, l) == 1:\n",
    "            return e\n",
    "        else:\n",
    "            e += 1\n",
    "            continue\n",
    "        return 0"
   ]
  },
  {
   "cell_type": "code",
   "execution_count": 82,
   "metadata": {},
   "outputs": [],
   "source": [
    "def get_d(l, e):\n",
    "    for d in range(2, l):\n",
    "        if e * d % l == 1:\n",
    "            return d\n",
    "        else:\n",
    "            d += 1\n",
    "            continue\n",
    "        return 0\n",
    "\n",
    "        "
   ]
  },
  {
   "cell_type": "code",
   "execution_count": 83,
   "metadata": {},
   "outputs": [],
   "source": [
    "def calc(p, q):\n",
    "    rsa = dict()\n",
    "    rsa['p'] = p\n",
    "    rsa['q'] = q\n",
    "    rsa['n'] = p * q\n",
    "    \n",
    "    rsa['l'] = get_l(p, q)\n",
    "    l = rsa['l']\n",
    "    e = get_e(l)\n",
    "    if e == 0:\n",
    "        print(\"can not get e\")\n",
    "        return rsa\n",
    "    rsa['e'] = e\n",
    "    \n",
    "    d = get_d(l, e)\n",
    "    if d == 0:\n",
    "        print(\"can not get d\")\n",
    "        return rsa\n",
    "    rsa['d'] = d\n",
    "\n",
    "    return rsa"
   ]
  },
  {
   "cell_type": "code",
   "execution_count": 84,
   "metadata": {},
   "outputs": [],
   "source": [
    "def verify_rsa(rsa, m_list):\n",
    "    for m in m_list:\n",
    "        encrypt = m ** rsa['e'] % rsa['n']\n",
    "        decrypt = encrypt ** rsa['d'] % rsa['n']\n",
    "        print(\"m: {}, encrypt: {}, decrypt: {}, {}\".format(m, encrypt, decrypt, m == decrypt))"
   ]
  },
  {
   "cell_type": "code",
   "execution_count": 85,
   "metadata": {},
   "outputs": [],
   "source": [
    "def get_prime():\n",
    "    primes = []   # primes generated so far\n",
    "    last = 1      # last number tried\n",
    "    while True:\n",
    "        last += 1\n",
    "        for p in primes:\n",
    "            if last % p == 0:\n",
    "                break\n",
    "        else:\n",
    "            primes.append(last)\n",
    "            yield last\n",
    "\n"
   ]
  },
  {
   "cell_type": "code",
   "execution_count": 86,
   "metadata": {},
   "outputs": [],
   "source": [
    "prime = get_prime()"
   ]
  },
  {
   "cell_type": "code",
   "execution_count": 87,
   "metadata": {},
   "outputs": [
    {
     "data": {
      "text/plain": [
       "2"
      ]
     },
     "execution_count": 87,
     "metadata": {},
     "output_type": "execute_result"
    }
   ],
   "source": [
    "next(prime)"
   ]
  },
  {
   "cell_type": "code",
   "execution_count": 88,
   "metadata": {},
   "outputs": [],
   "source": [
    "def genrsa():\n",
    "    prime_generator = get_prime()\n",
    "    for i in (1, 3):\n",
    "        next(prime_generator)\n",
    "    p = next(prime_generator)\n",
    "    for i in range(1, 1000):\n",
    "        q = next(prime_generator)\n",
    "        rsa = calc(p, q)\n",
    "        if rsa.get('e') is None or rsa.get('d') is None:\n",
    "            continue\n",
    "        return rsa            "
   ]
  },
  {
   "cell_type": "code",
   "execution_count": 89,
   "metadata": {},
   "outputs": [
    {
     "data": {
      "text/plain": [
       "{'p': 5, 'q': 7, 'n': 35, 'l': 12, 'e': 5, 'd': 5}"
      ]
     },
     "execution_count": 89,
     "metadata": {},
     "output_type": "execute_result"
    }
   ],
   "source": [
    "genrsa()"
   ]
  },
  {
   "cell_type": "code",
   "execution_count": 90,
   "metadata": {},
   "outputs": [],
   "source": [
    "def main():\n",
    "    rsa = genrsa()\n",
    "    verify_rsa(rsa, (1, 3, 6, 11))"
   ]
  },
  {
   "cell_type": "code",
   "execution_count": 92,
   "metadata": {},
   "outputs": [
    {
     "name": "stdout",
     "output_type": "stream",
     "text": [
      "m: 1, encrypt: 1, decrypt: 1, True\n",
      "m: 3, encrypt: 33, decrypt: 3, True\n",
      "m: 6, encrypt: 6, decrypt: 6, True\n",
      "m: 11, encrypt: 16, decrypt: 11, True\n"
     ]
    }
   ],
   "source": [
    "main()"
   ]
  },
  {
   "cell_type": "code",
   "execution_count": null,
   "metadata": {},
   "outputs": [],
   "source": []
  }
 ],
 "metadata": {
  "kernelspec": {
   "display_name": "Python 3",
   "language": "python",
   "name": "python3"
  },
  "language_info": {
   "codemirror_mode": {
    "name": "ipython",
    "version": 3
   },
   "file_extension": ".py",
   "mimetype": "text/x-python",
   "name": "python",
   "nbconvert_exporter": "python",
   "pygments_lexer": "ipython3",
   "version": "3.7.1"
  }
 },
 "nbformat": 4,
 "nbformat_minor": 2
}
