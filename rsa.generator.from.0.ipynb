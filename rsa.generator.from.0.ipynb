{
 "cells": [
  {
   "cell_type": "code",
   "execution_count": 18,
   "metadata": {},
   "outputs": [],
   "source": [
    "# rsa simple implementing\n",
    "# \n",
    "# p, q : two different primes\n",
    "# n = p * q  : modulus\n",
    "# l = lcm(p - 1, q - 1)\n",
    "# e: 1 < e < l and gdc(e, l) == 1\n",
    "#    (e, n) : public key\n",
    "# d: 1 < d < l and d * e mod l == 1\n",
    "#    (d, n) : private key\n",
    "# \n",
    "# m: message, m < n\n",
    "# encrypted = m ** e mod n\n",
    "# decrypted = encrypted ** d mod n\n",
    "#\n",
    "#"
   ]
  },
  {
   "cell_type": "code",
   "execution_count": 18,
   "metadata": {},
   "outputs": [],
   "source": [
    "# base utility functions to generate prime\n",
    "def primes_generator():\n",
    "    primes = []   # primes generated so far\n",
    "    last = 1      # last number tried\n",
    "    while True:\n",
    "        last += 1\n",
    "        for p in primes:\n",
    "            if last % p == 0:\n",
    "                break\n",
    "        else:\n",
    "            primes.append(last)\n",
    "            yield last\n",
    "\n",
    "# base util function\n",
    "def gcd(x, y):\n",
    "   while(y):\n",
    "       x, y = y, x % y\n",
    "        \n",
    "   return x\n",
    "\n",
    "# base util function\n",
    "def lcm(x, y):\n",
    "   return (x * y) // gcd(x, y)"
   ]
  },
  {
   "cell_type": "code",
   "execution_count": 19,
   "metadata": {},
   "outputs": [],
   "source": [
    "def get_n(p, q):\n",
    "    return p * q\n",
    "\n",
    "\n",
    "def get_l(p, q):\n",
    "    return lcm(p - 1, q - 1)\n",
    "\n",
    "\n",
    "def get_e(l):\n",
    "    for e in range(2, l):\n",
    "        if gcd(e, l) == 1:\n",
    "            return e\n",
    "        else:\n",
    "            continue\n",
    "            \n",
    "        return 0\n",
    "\n",
    "    \n",
    "def get_d(l, e):\n",
    "    for d in range(2, l):\n",
    "        if e * d % l == 1:\n",
    "            return d\n",
    "        else:\n",
    "            continue\n",
    "            \n",
    "        return 0"
   ]
  },
  {
   "cell_type": "code",
   "execution_count": 20,
   "metadata": {},
   "outputs": [],
   "source": [
    "def calc_rsa_elements(p, q):\n",
    "    rsa = dict()\n",
    "    rsa['p'] = p\n",
    "    rsa['q'] = q\n",
    "    rsa['n'] = p * q\n",
    "    \n",
    "    rsa['l'] = get_l(p, q)\n",
    "    l = rsa['l']\n",
    "    e = get_e(l)\n",
    "    if e == 0:\n",
    "        rsa['ready'] = False\n",
    "        return rsa\n",
    "    \n",
    "    d = get_d(l, e)\n",
    "    if d == 0:\n",
    "        rsa['ready'] = False\n",
    "        return rsa\n",
    "    \n",
    "    rsa['e'] = e\n",
    "    rsa['d'] = d\n",
    "    rsa['ready'] = True\n",
    "    \n",
    "    return rsa"
   ]
  },
  {
   "cell_type": "code",
   "execution_count": 21,
   "metadata": {},
   "outputs": [],
   "source": [
    "def try_to_gen_rsa():\n",
    "    primes = primes_generator()\n",
    "    for i in (1, 3):\n",
    "        next(primes)\n",
    "    p = next(primes)\n",
    "    for i in range(1, 1000):\n",
    "        q = next(primes)\n",
    "        rsa = calc_rsa_elements(p, q)\n",
    "        if not rsa['ready']:\n",
    "            continue\n",
    "        return rsa"
   ]
  },
  {
   "cell_type": "code",
   "execution_count": 41,
   "metadata": {},
   "outputs": [],
   "source": [
    "def verify_rsa(rsa, msgs):\n",
    "    for m in msgs:\n",
    "        encrypt = m ** rsa['e'] % rsa['n']\n",
    "        decrypt = encrypt ** rsa['d'] % rsa['n']\n",
    "        print(\"m: {}, encrypted: {}, decrypted: {}, (m == decrypted): {}\".format(m, encrypt, decrypt, m == decrypt))"
   ]
  },
  {
   "cell_type": "code",
   "execution_count": 42,
   "metadata": {},
   "outputs": [],
   "source": [
    "def main():\n",
    "    rsa = try_to_gen_rsa()\n",
    "    print('rsa -> {}'.format(rsa))\n",
    "    msgs = range(1, 20)\n",
    "    verify_rsa(rsa, msgs)"
   ]
  },
  {
   "cell_type": "code",
   "execution_count": 43,
   "metadata": {},
   "outputs": [
    {
     "name": "stdout",
     "output_type": "stream",
     "text": [
      "rsa -> {'p': 5, 'q': 7, 'n': 35, 'l': 12, 'e': 5, 'd': 5, 'ready': True}\n",
      "m: 1, encrypted: 1, decrypted: 1, (m == decrypted): True\n",
      "m: 2, encrypted: 32, decrypted: 2, (m == decrypted): True\n",
      "m: 3, encrypted: 33, decrypted: 3, (m == decrypted): True\n",
      "m: 4, encrypted: 9, decrypted: 4, (m == decrypted): True\n",
      "m: 5, encrypted: 10, decrypted: 5, (m == decrypted): True\n",
      "m: 6, encrypted: 6, decrypted: 6, (m == decrypted): True\n",
      "m: 7, encrypted: 7, decrypted: 7, (m == decrypted): True\n",
      "m: 8, encrypted: 8, decrypted: 8, (m == decrypted): True\n",
      "m: 9, encrypted: 4, decrypted: 9, (m == decrypted): True\n",
      "m: 10, encrypted: 5, decrypted: 10, (m == decrypted): True\n",
      "m: 11, encrypted: 16, decrypted: 11, (m == decrypted): True\n",
      "m: 12, encrypted: 17, decrypted: 12, (m == decrypted): True\n",
      "m: 13, encrypted: 13, decrypted: 13, (m == decrypted): True\n",
      "m: 14, encrypted: 14, decrypted: 14, (m == decrypted): True\n",
      "m: 15, encrypted: 15, decrypted: 15, (m == decrypted): True\n",
      "m: 16, encrypted: 11, decrypted: 16, (m == decrypted): True\n",
      "m: 17, encrypted: 12, decrypted: 17, (m == decrypted): True\n",
      "m: 18, encrypted: 23, decrypted: 18, (m == decrypted): True\n",
      "m: 19, encrypted: 24, decrypted: 19, (m == decrypted): True\n"
     ]
    }
   ],
   "source": [
    "main()"
   ]
  },
  {
   "cell_type": "code",
   "execution_count": null,
   "metadata": {},
   "outputs": [],
   "source": []
  }
 ],
 "metadata": {
  "kernelspec": {
   "display_name": "Python 3",
   "language": "python",
   "name": "python3"
  },
  "language_info": {
   "codemirror_mode": {
    "name": "ipython",
    "version": 3
   },
   "file_extension": ".py",
   "mimetype": "text/x-python",
   "name": "python",
   "nbconvert_exporter": "python",
   "pygments_lexer": "ipython3",
   "version": "3.7.1"
  }
 },
 "nbformat": 4,
 "nbformat_minor": 2
}
