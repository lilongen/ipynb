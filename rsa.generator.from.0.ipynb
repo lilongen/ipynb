{
 "cells": [
  {
   "cell_type": "code",
   "execution_count": 60,
   "metadata": {},
   "outputs": [],
   "source": [
    "# rsa simple implementing\n",
    "# \n",
    "# p, q : two different primes\n",
    "# n = p * q  : modulus\n",
    "# φ(pq) = φ(p)φ(q) = (p - 1) * (q - 1) 欧拉函数\n",
    "# r = lcm(p - 1, q - 1) \n",
    "#\n",
    "# e * d = 1(mod r) -> e * d % r = 1 \n",
    "# e: 1 < e < r and gdc(e, r) == 1\n",
    "#    (e, n) : public key\n",
    "# d: 1 < d < r and d * e mod r == 1\n",
    "#    (d, n) : private key\n",
    "# \n",
    "# m: message, m < n\n",
    "# encrypted = m ** e mod n\n",
    "# decrypted = encrypted ** d mod n\n",
    "#\n",
    "# reference:\n",
    "#   https://zhuanlan.zhihu.com/p/33580225\n",
    "#"
   ]
  },
  {
   "cell_type": "code",
   "execution_count": 69,
   "metadata": {},
   "outputs": [],
   "source": [
    "IGNORE_FIRST_PRIMES_COUNT = 50\n",
    "E_AND_D_DVALUE_THRESHOLD = 5"
   ]
  },
  {
   "cell_type": "code",
   "execution_count": 70,
   "metadata": {},
   "outputs": [],
   "source": [
    "def primes_generator():\n",
    "    primes = []   # primes generated so far\n",
    "    last = 1      # last number tried\n",
    "    while True:\n",
    "        last += 1\n",
    "        for p in primes:\n",
    "            if last % p == 0:\n",
    "                break\n",
    "        else:\n",
    "            primes.append(last)\n",
    "            yield last\n",
    "\n",
    "# greatest common divisor\n",
    "def gcd(x, y):\n",
    "   while(y):\n",
    "       x, y = y, x % y\n",
    "        \n",
    "   return x\n",
    "\n",
    "# least common multiple\n",
    "def lcm(x, y):\n",
    "   return (x * y) // gcd(x, y)"
   ]
  },
  {
   "cell_type": "code",
   "execution_count": 71,
   "metadata": {},
   "outputs": [],
   "source": [
    "def get_n(p, q):\n",
    "    return p * q\n",
    "\n",
    "\n",
    "def get_r(p, q):\n",
    "    return lcm(p - 1, q - 1)\n",
    "\n",
    "\n",
    "def get_e(r):\n",
    "    for e in range(2, r):\n",
    "        if gcd(e, r) == 1:\n",
    "            return e\n",
    "        else:\n",
    "            continue\n",
    "            \n",
    "        return 0\n",
    "\n",
    "    \n",
    "def get_d(r, e):\n",
    "    for d in range(2, r):\n",
    "        if d == e and abs(d - e) < E_AND_D_DVALUE_THRESHOLD:\n",
    "            continue\n",
    "            \n",
    "        if e * d % r == 1:\n",
    "            return d\n",
    "        else:\n",
    "            continue\n",
    "            \n",
    "        return 0"
   ]
  },
  {
   "cell_type": "code",
   "execution_count": 72,
   "metadata": {},
   "outputs": [],
   "source": [
    "def calc_rsa_elements(p, q):\n",
    "    rsa = dict()\n",
    "    rsa['p'] = p\n",
    "    rsa['q'] = q\n",
    "    rsa['n'] = p * q\n",
    "    \n",
    "    rsa['r'] = get_r(p, q)\n",
    "    r = rsa['r']\n",
    "    e = get_e(r)\n",
    "    if e == 0:\n",
    "        rsa['ready'] = False\n",
    "        return rsa\n",
    "    \n",
    "    d = get_d(r, e)\n",
    "    if d == 0:\n",
    "        rsa['ready'] = False\n",
    "        return rsa\n",
    "    \n",
    "    rsa['e'] = e\n",
    "    rsa['d'] = d\n",
    "    rsa['ready'] = True\n",
    "    \n",
    "    return rsa"
   ]
  },
  {
   "cell_type": "code",
   "execution_count": 73,
   "metadata": {},
   "outputs": [],
   "source": [
    "def try_to_gen_rsa():\n",
    "    primes = primes_generator()\n",
    "    for i in range(1, IGNORE_FIRST_PRIMES_COUNT):\n",
    "        next(primes)\n",
    "        \n",
    "    p = next(primes)\n",
    "    for i in range(1, 1000):\n",
    "        q = next(primes)\n",
    "        rsa = calc_rsa_elements(p, q)\n",
    "        if not rsa['ready']:\n",
    "            continue\n",
    "        return rsa"
   ]
  },
  {
   "cell_type": "code",
   "execution_count": 74,
   "metadata": {},
   "outputs": [],
   "source": [
    "def verify_rsa(rsa, msgs):\n",
    "    for e, d in (('e', 'd'), ('d', 'e')):\n",
    "        print(\"m -> {}(m) -> {}({}(m)) -> m: tesing ...\".format(e, d, e))\n",
    "        for m in msgs:\n",
    "            m_e = m ** rsa[e] % rsa['n']\n",
    "            m_e_d = m_e ** rsa[d] % rsa['n']\n",
    "            print(\"{}: {} -> {} -> {}\".format(m == m_e_d, m, m_e, m_e_d))"
   ]
  },
  {
   "cell_type": "code",
   "execution_count": 75,
   "metadata": {},
   "outputs": [],
   "source": [
    "def main():\n",
    "    rsa = try_to_gen_rsa()\n",
    "    print('rsa -> {}'.format(rsa))\n",
    "    msgs = range(1, 20)\n",
    "    verify_rsa(rsa, msgs)"
   ]
  },
  {
   "cell_type": "code",
   "execution_count": 76,
   "metadata": {},
   "outputs": [
    {
     "name": "stdout",
     "output_type": "stream",
     "text": [
      "rsa -> {'p': 229, 'q': 233, 'n': 53357, 'r': 13224, 'e': 5, 'd': 2645, 'ready': True}\n",
      "m -> e(m) -> d(e(m)) -> m: tesing ...\n",
      "True: 1 -> 1 -> 1\n",
      "True: 2 -> 32 -> 2\n",
      "True: 3 -> 243 -> 3\n",
      "True: 4 -> 1024 -> 4\n",
      "True: 5 -> 3125 -> 5\n",
      "True: 6 -> 7776 -> 6\n",
      "True: 7 -> 16807 -> 7\n",
      "True: 8 -> 32768 -> 8\n",
      "True: 9 -> 5692 -> 9\n",
      "True: 10 -> 46643 -> 10\n",
      "True: 11 -> 980 -> 11\n",
      "True: 12 -> 35404 -> 12\n",
      "True: 13 -> 51151 -> 13\n",
      "True: 14 -> 4254 -> 14\n",
      "True: 15 -> 12377 -> 15\n",
      "True: 16 -> 34793 -> 16\n",
      "True: 17 -> 32575 -> 17\n",
      "True: 18 -> 22073 -> 18\n",
      "True: 19 -> 21677 -> 19\n",
      "m -> d(m) -> e(d(m)) -> m: tesing ...\n",
      "True: 1 -> 1 -> 1\n",
      "True: 2 -> 3326 -> 2\n",
      "True: 3 -> 51845 -> 3\n",
      "True: 4 -> 17377 -> 4\n",
      "True: 5 -> 21629 -> 5\n",
      "True: 6 -> 40003 -> 6\n",
      "True: 7 -> 42199 -> 7\n",
      "True: 8 -> 10271 -> 8\n",
      "True: 9 -> 45150 -> 9\n",
      "True: 10 -> 12818 -> 10\n",
      "True: 11 -> 16732 -> 11\n",
      "True: 12 -> 30977 -> 12\n",
      "True: 13 -> 21962 -> 13\n",
      "True: 14 -> 24964 -> 14\n",
      "True: 15 -> 4793 -> 15\n",
      "True: 16 -> 12866 -> 16\n",
      "True: 17 -> 41614 -> 17\n",
      "True: 18 -> 22302 -> 18\n",
      "True: 19 -> 47451 -> 19\n"
     ]
    }
   ],
   "source": [
    "main()"
   ]
  },
  {
   "cell_type": "code",
   "execution_count": null,
   "metadata": {},
   "outputs": [],
   "source": []
  }
 ],
 "metadata": {
  "kernelspec": {
   "display_name": "Python 3",
   "language": "python",
   "name": "python3"
  },
  "language_info": {
   "codemirror_mode": {
    "name": "ipython",
    "version": 3
   },
   "file_extension": ".py",
   "mimetype": "text/x-python",
   "name": "python",
   "nbconvert_exporter": "python",
   "pygments_lexer": "ipython3",
   "version": "3.7.1"
  }
 },
 "nbformat": 4,
 "nbformat_minor": 2
}
