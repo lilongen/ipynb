{
 "cells": [
  {
   "cell_type": "code",
   "execution_count": 18,
   "metadata": {},
   "outputs": [],
   "source": [
    "# rsa simple implementing\n",
    "# \n",
    "# p, q\n",
    "# n = p * q\n",
    "# l = lcm(p - 1, q - 1)\n",
    "# e: 1 < e < l and gdc(e, l) == 1\n",
    "# d: 1 < d < l and d * e mod l == 1\n",
    "# \n",
    "# encrypted = m ** e mod n\n",
    "# dicrypted = encrypted ** d mod n\n",
    "#\n",
    "#\n",
    "\n",
    "# base util function to generate prime\n",
    "def primes_generator():\n",
    "    primes = []   # primes generated so far\n",
    "    last = 1      # last number tried\n",
    "    while True:\n",
    "        last += 1\n",
    "        for p in primes:\n",
    "            if last % p == 0:\n",
    "                break\n",
    "        else:\n",
    "            primes.append(last)\n",
    "            yield last\n",
    "\n",
    "# base util function\n",
    "def gcd(x, y):\n",
    "   while(y):\n",
    "       x, y = y, x % y\n",
    "        \n",
    "   return x\n",
    "\n",
    "# base util function\n",
    "def lcm(x, y):\n",
    "   return (x * y) // gcd(x, y)\n"
   ]
  },
  {
   "cell_type": "code",
   "execution_count": 19,
   "metadata": {},
   "outputs": [],
   "source": [
    "def get_n(p, q):\n",
    "    return p * q\n",
    "\n",
    "\n",
    "def get_l(p, q):\n",
    "    return lcm(p - 1, q - 1)\n",
    "\n",
    "\n",
    "def get_e(l):\n",
    "    for e in range(2, l):\n",
    "        if gcd(e, l) == 1:\n",
    "            return e\n",
    "        else:\n",
    "            continue\n",
    "            \n",
    "        return 0\n",
    "\n",
    "    \n",
    "def get_d(l, e):\n",
    "    for d in range(2, l):\n",
    "        if e * d % l == 1:\n",
    "            return d\n",
    "        else:\n",
    "            continue\n",
    "            \n",
    "        return 0"
   ]
  },
  {
   "cell_type": "code",
   "execution_count": 20,
   "metadata": {},
   "outputs": [],
   "source": [
    "def calc_rsa_elements(p, q):\n",
    "    rsa = dict()\n",
    "    rsa['p'] = p\n",
    "    rsa['q'] = q\n",
    "    rsa['n'] = p * q\n",
    "    \n",
    "    rsa['l'] = get_l(p, q)\n",
    "    l = rsa['l']\n",
    "    e = get_e(l)\n",
    "    if e == 0:\n",
    "        rsa['ready'] = False\n",
    "        return rsa\n",
    "    \n",
    "    d = get_d(l, e)\n",
    "    if d == 0:\n",
    "        rsa['ready'] = False\n",
    "        return rsa\n",
    "    \n",
    "    rsa['e'] = e\n",
    "    rsa['d'] = d\n",
    "    rsa['ready'] = True\n",
    "    \n",
    "    return rsa"
   ]
  },
  {
   "cell_type": "code",
   "execution_count": 21,
   "metadata": {},
   "outputs": [],
   "source": [
    "def try_to_gen_rsa():\n",
    "    primes = primes_generator()\n",
    "    for i in (1, 3):\n",
    "        next(primes)\n",
    "    p = next(primes)\n",
    "    for i in range(1, 1000):\n",
    "        q = next(primes)\n",
    "        rsa = calc_rsa_elements(p, q)\n",
    "        if not rsa['ready']:\n",
    "            continue\n",
    "        return rsa"
   ]
  },
  {
   "cell_type": "code",
   "execution_count": 22,
   "metadata": {},
   "outputs": [],
   "source": [
    "def verify_rsa(rsa, m_list):\n",
    "    for m in m_list:\n",
    "        encrypt = m ** rsa['e'] % rsa['n']\n",
    "        decrypt = encrypt ** rsa['d'] % rsa['n']\n",
    "        print(\"m: {}, encrypt: {}, decrypt: {}, {}\".format(m, encrypt, decrypt, m == decrypt))"
   ]
  },
  {
   "cell_type": "code",
   "execution_count": 36,
   "metadata": {},
   "outputs": [],
   "source": [
    "def main():\n",
    "    rsa = try_to_gen_rsa()\n",
    "    print('rsa -> {}'.format(rsa))\n",
    "    msgs = range(1, 20)\n",
    "    verify_rsa(rsa, msgs)"
   ]
  },
  {
   "cell_type": "code",
   "execution_count": 37,
   "metadata": {},
   "outputs": [
    {
     "name": "stdout",
     "output_type": "stream",
     "text": [
      "rsa -> {'p': 5, 'q': 7, 'n': 35, 'l': 12, 'e': 5, 'd': 5, 'ready': True}\n",
      "m: 1, encrypt: 1, decrypt: 1, True\n",
      "m: 2, encrypt: 32, decrypt: 2, True\n",
      "m: 3, encrypt: 33, decrypt: 3, True\n",
      "m: 4, encrypt: 9, decrypt: 4, True\n",
      "m: 5, encrypt: 10, decrypt: 5, True\n",
      "m: 6, encrypt: 6, decrypt: 6, True\n",
      "m: 7, encrypt: 7, decrypt: 7, True\n",
      "m: 8, encrypt: 8, decrypt: 8, True\n",
      "m: 9, encrypt: 4, decrypt: 9, True\n",
      "m: 10, encrypt: 5, decrypt: 10, True\n",
      "m: 11, encrypt: 16, decrypt: 11, True\n",
      "m: 12, encrypt: 17, decrypt: 12, True\n",
      "m: 13, encrypt: 13, decrypt: 13, True\n",
      "m: 14, encrypt: 14, decrypt: 14, True\n",
      "m: 15, encrypt: 15, decrypt: 15, True\n",
      "m: 16, encrypt: 11, decrypt: 16, True\n",
      "m: 17, encrypt: 12, decrypt: 17, True\n",
      "m: 18, encrypt: 23, decrypt: 18, True\n",
      "m: 19, encrypt: 24, decrypt: 19, True\n",
      "m: 20, encrypt: 20, decrypt: 20, True\n",
      "m: 21, encrypt: 21, decrypt: 21, True\n",
      "m: 22, encrypt: 22, decrypt: 22, True\n",
      "m: 23, encrypt: 18, decrypt: 23, True\n",
      "m: 24, encrypt: 19, decrypt: 24, True\n",
      "m: 25, encrypt: 30, decrypt: 25, True\n",
      "m: 26, encrypt: 31, decrypt: 26, True\n",
      "m: 27, encrypt: 27, decrypt: 27, True\n",
      "m: 28, encrypt: 28, decrypt: 28, True\n",
      "m: 29, encrypt: 29, decrypt: 29, True\n",
      "m: 30, encrypt: 25, decrypt: 30, True\n",
      "m: 31, encrypt: 26, decrypt: 31, True\n",
      "m: 32, encrypt: 2, decrypt: 32, True\n",
      "m: 33, encrypt: 3, decrypt: 33, True\n",
      "m: 34, encrypt: 34, decrypt: 34, True\n"
     ]
    }
   ],
   "source": [
    "main()"
   ]
  },
  {
   "cell_type": "code",
   "execution_count": null,
   "metadata": {},
   "outputs": [],
   "source": []
  }
 ],
 "metadata": {
  "kernelspec": {
   "display_name": "Python 3",
   "language": "python",
   "name": "python3"
  },
  "language_info": {
   "codemirror_mode": {
    "name": "ipython",
    "version": 3
   },
   "file_extension": ".py",
   "mimetype": "text/x-python",
   "name": "python",
   "nbconvert_exporter": "python",
   "pygments_lexer": "ipython3",
   "version": "3.7.1"
  }
 },
 "nbformat": 4,
 "nbformat_minor": 2
}
