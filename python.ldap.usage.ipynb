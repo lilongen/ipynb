{
 "cells": [
  {
   "cell_type": "code",
   "execution_count": 1,
   "metadata": {},
   "outputs": [],
   "source": [
    "from ruamel.yaml import YAML\n",
    "import ldap\n",
    "import re\n",
    "import subprocess"
   ]
  },
  {
   "cell_type": "code",
   "execution_count": 2,
   "metadata": {},
   "outputs": [],
   "source": [
    "conf: dict\n",
    "l: int"
   ]
  },
  {
   "cell_type": "code",
   "execution_count": 3,
   "metadata": {},
   "outputs": [],
   "source": [
    "def get_conf():\n",
    "    global conf, l\n",
    "    with open('/Users/lilongen/github/cdh-on-centos/kerberos+sentry+ldap/conf/security.cdh.yml', 'r') as f: conf = YAML().load(f)\n",
    "\n",
    "def bind_ldap():\n",
    "    global conf, l\n",
    "    ldap_conf = conf['ldap']\n",
    "    l = ldap.initialize(ldap_conf['url'])\n",
    "    l.simple_bind_s(ldap_conf['bind_dn'], ldap_conf['bind_pw'])\n",
    "\n",
    "def unbind_ldap():\n",
    "    global conf, l\n",
    "    l.unbind_s()"
   ]
  },
  {
   "cell_type": "code",
   "execution_count": 4,
   "metadata": {},
   "outputs": [],
   "source": [
    "def get_ldap_users():\n",
    "    global conf, l\n",
    "    re_1st_ou = re.compile(r'CN=[^,]+,OU=([^,]+),')\n",
    "    search_res = l.search(ldap_conf['base_dn'], ldap.SCOPE_SUBTREE, ldap_conf['filter'], ldap_conf['attrs'])\n",
    "    users = []\n",
    "    while True:\n",
    "        result_type, result_data = l.result(search_res, 0)\n",
    "        if (len(result_data) == 0):\n",
    "            break\n",
    "        result_type == ldap.RES_SEARCH_ENTRY and users.append(result_data)\n",
    "\n",
    "    user_ids = []\n",
    "\n",
    "    for entry in users:\n",
    "        user_dn = entry[0][0]\n",
    "        user_id = entry[0][1]['sAMAccountName'][0].decode()\n",
    "        user_1stou = re.match(re_1st_ou, user_dn).group(1)\n",
    "        user_ids.append(user_id)\n",
    "    conf['role']['g_dev']['user'] = user_ids"
   ]
  },
  {
   "cell_type": "code",
   "execution_count": 5,
   "metadata": {},
   "outputs": [],
   "source": [
    "def generate_group_user_directory_playbook():\n",
    "    global conf, l\n",
    "    playbook = []\n",
    "    #generate new part\n",
    "    for r_name, r in conf['role'].items():\n",
    "        playbook.append({\n",
    "            'name': 'Ensure group \"{}\" exists'.format(r_name),\n",
    "            'group': {\n",
    "                'name': r_name,\n",
    "                'state': 'present'\n",
    "            }\n",
    "        })\n",
    "        playbook.append({\n",
    "            'name': 'Ensure directory \"{}\" exists'.format(r['workspace']),\n",
    "            'file': {\n",
    "                'path': r['workspace'],\n",
    "                'state': 'directory',\n",
    "                'mode': '0755',\n",
    "                'group': r_name,\n",
    "            }\n",
    "        })\n",
    "\n",
    "        for u in r['user']:\n",
    "            playbook.append({\n",
    "                'name': 'User \"{}\" info'.format(u),\n",
    "                'user': {\n",
    "                    'name': u,\n",
    "                    'state': 'present',\n",
    "                    'group': r_name\n",
    "                }\n",
    "            })\n",
    "            \n",
    "    #generate deleted part\n",
    "    for r_name in conf['diff']['group']:\n",
    "        playbook.append({\n",
    "            'name': 'Delete group \"{}\"'.format(r_name),\n",
    "            'group': {\n",
    "                'name': r_name,\n",
    "                'state': 'absent'\n",
    "            }\n",
    "        })\n",
    "    for r_name, r in conf['diff']['user'].items():\n",
    "        for u in r['user']:\n",
    "            playbook.append({\n",
    "                'name': 'Delete user \"{}\" '.format(u),\n",
    "                'user': {\n",
    "                    'name': u,\n",
    "                    'state': 'absent'\n",
    "                }\n",
    "            })\n",
    "            \n",
    "    #persist to file\n",
    "    with open('/Users/lilongen/kerberos+ldap.yml', 'w') as f: YAML().dump(playbook, f)"
   ]
  },
  {
   "cell_type": "code",
   "execution_count": 6,
   "metadata": {},
   "outputs": [],
   "source": [
    "def get_presence_and_yaml_diff():\n",
    "    presence = conf['presence_role']\n",
    "    definition = conf['role']\n",
    "    diff = {\n",
    "        'group': [], \n",
    "        'user': {}\n",
    "    }\n",
    "    for pk, pv in presence.items():\n",
    "        if definition.get(pk) is None:\n",
    "            diff['group'].append(pk)\n",
    "            diff['user'][pk] = pv\n",
    "        else:\n",
    "            diff['user'][pk] = {}\n",
    "            diff['user'][pk]['user'] = set(pv['user']) - set(definition[pk]['user'])\n",
    "    conf['diff'] = diff\n",
    "    print(diff)"
   ]
  },
  {
   "cell_type": "code",
   "execution_count": 7,
   "metadata": {},
   "outputs": [],
   "source": [
    "def generate_keytab():\n",
    "    global conf, l\n",
    "    cmd_tpl = 'kadmin -p {admin} -w {admin_pw} ktadd -k {keytab_to}/{username}.keytab'\n",
    "    cmds = ''\n",
    "    kadmin_vars = conf['kerberos']\n",
    "    for r_name, r in conf['role'].items():\n",
    "        for u in r['user']:\n",
    "            kadmin_vars['username'] = u\n",
    "            cmds += cmd_tpl.format(**kadmin_vars) + '\\n'\n",
    "    print(cmds)\n"
   ]
  },
  {
   "cell_type": "code",
   "execution_count": 8,
   "metadata": {},
   "outputs": [],
   "source": [
    "def get_node_user_group():\n",
    "    global conf, l\n",
    "    host = conf['cluster']['sample_host']\n",
    "    result = subprocess.run(['ssh', 'root@{}'.format(host), \"grep g_ /etc/group | awk -F: '{print $1}'\"], stdout=subprocess.PIPE)\n",
    "    groups = result.stdout.decode().split('\\n')[0:-1]\n",
    "    group_users = {}\n",
    "    for g in groups:\n",
    "        group_users[g] = {}\n",
    "        result = subprocess.run(['ssh', 'root@{}'.format(host), 'lid -n -g {}'.format(g)], stdout=subprocess.PIPE)\n",
    "        users = result.stdout.decode().split('\\n')[0:-1]\n",
    "        group_users[g]['user'] = list(map(lambda x: re.sub('^\\s+', '', x), users))\n",
    "    \n",
    "    conf['presence_role'] = group_users"
   ]
  },
  {
   "cell_type": "code",
   "execution_count": 9,
   "metadata": {},
   "outputs": [],
   "source": [
    "def main():\n",
    "    get_conf()\n",
    "    bind_ldap()\n",
    "    get_ldap_users()\n",
    "    get_node_user_group()\n",
    "    get_presence_and_yaml_diff()\n",
    "    generate_group_user_directory_playbook()\n",
    "    generate_keytab()\n",
    "    get_node_user_group()\n",
    "    unbind_ldap()\n"
   ]
  },
  {
   "cell_type": "code",
   "execution_count": 10,
   "metadata": {},
   "outputs": [
    {
     "ename": "FileNotFoundError",
     "evalue": "[Errno 2] No such file or directory: '/Users/lilongen/cdh.security+ldap.yml'",
     "output_type": "error",
     "traceback": [
      "\u001b[0;31m---------------------------------------------------------------------------\u001b[0m",
      "\u001b[0;31mFileNotFoundError\u001b[0m                         Traceback (most recent call last)",
      "\u001b[0;32m<ipython-input-10-263240bbee7e>\u001b[0m in \u001b[0;36m<module>\u001b[0;34m\u001b[0m\n\u001b[0;32m----> 1\u001b[0;31m \u001b[0mmain\u001b[0m\u001b[0;34m(\u001b[0m\u001b[0;34m)\u001b[0m\u001b[0;34m\u001b[0m\u001b[0;34m\u001b[0m\u001b[0m\n\u001b[0m",
      "\u001b[0;32m<ipython-input-9-70b6d0fbd4ce>\u001b[0m in \u001b[0;36mmain\u001b[0;34m()\u001b[0m\n\u001b[1;32m      1\u001b[0m \u001b[0;32mdef\u001b[0m \u001b[0mmain\u001b[0m\u001b[0;34m(\u001b[0m\u001b[0;34m)\u001b[0m\u001b[0;34m:\u001b[0m\u001b[0;34m\u001b[0m\u001b[0;34m\u001b[0m\u001b[0m\n\u001b[0;32m----> 2\u001b[0;31m     \u001b[0mget_conf\u001b[0m\u001b[0;34m(\u001b[0m\u001b[0;34m)\u001b[0m\u001b[0;34m\u001b[0m\u001b[0;34m\u001b[0m\u001b[0m\n\u001b[0m\u001b[1;32m      3\u001b[0m     \u001b[0mbind_ldap\u001b[0m\u001b[0;34m(\u001b[0m\u001b[0;34m)\u001b[0m\u001b[0;34m\u001b[0m\u001b[0;34m\u001b[0m\u001b[0m\n\u001b[1;32m      4\u001b[0m     \u001b[0mget_ldap_users\u001b[0m\u001b[0;34m(\u001b[0m\u001b[0;34m)\u001b[0m\u001b[0;34m\u001b[0m\u001b[0;34m\u001b[0m\u001b[0m\n\u001b[1;32m      5\u001b[0m     \u001b[0mget_node_user_group\u001b[0m\u001b[0;34m(\u001b[0m\u001b[0;34m)\u001b[0m\u001b[0;34m\u001b[0m\u001b[0;34m\u001b[0m\u001b[0m\n",
      "\u001b[0;32m<ipython-input-3-8ea51032703e>\u001b[0m in \u001b[0;36mget_conf\u001b[0;34m()\u001b[0m\n\u001b[1;32m      1\u001b[0m \u001b[0;32mdef\u001b[0m \u001b[0mget_conf\u001b[0m\u001b[0;34m(\u001b[0m\u001b[0;34m)\u001b[0m\u001b[0;34m:\u001b[0m\u001b[0;34m\u001b[0m\u001b[0;34m\u001b[0m\u001b[0m\n\u001b[1;32m      2\u001b[0m     \u001b[0;32mglobal\u001b[0m \u001b[0mconf\u001b[0m\u001b[0;34m,\u001b[0m \u001b[0ml\u001b[0m\u001b[0;34m\u001b[0m\u001b[0;34m\u001b[0m\u001b[0m\n\u001b[0;32m----> 3\u001b[0;31m     \u001b[0;32mwith\u001b[0m \u001b[0mopen\u001b[0m\u001b[0;34m(\u001b[0m\u001b[0;34m'/Users/lilongen/cdh.security+ldap.yml'\u001b[0m\u001b[0;34m,\u001b[0m \u001b[0;34m'r'\u001b[0m\u001b[0;34m)\u001b[0m \u001b[0;32mas\u001b[0m \u001b[0mf\u001b[0m\u001b[0;34m:\u001b[0m \u001b[0mconf\u001b[0m \u001b[0;34m=\u001b[0m \u001b[0mYAML\u001b[0m\u001b[0;34m(\u001b[0m\u001b[0;34m)\u001b[0m\u001b[0;34m.\u001b[0m\u001b[0mload\u001b[0m\u001b[0;34m(\u001b[0m\u001b[0mf\u001b[0m\u001b[0;34m)\u001b[0m\u001b[0;34m\u001b[0m\u001b[0;34m\u001b[0m\u001b[0m\n\u001b[0m\u001b[1;32m      4\u001b[0m \u001b[0;34m\u001b[0m\u001b[0m\n\u001b[1;32m      5\u001b[0m \u001b[0;32mdef\u001b[0m \u001b[0mbind_ldap\u001b[0m\u001b[0;34m(\u001b[0m\u001b[0;34m)\u001b[0m\u001b[0;34m:\u001b[0m\u001b[0;34m\u001b[0m\u001b[0;34m\u001b[0m\u001b[0m\n",
      "\u001b[0;31mFileNotFoundError\u001b[0m: [Errno 2] No such file or directory: '/Users/lilongen/cdh.security+ldap.yml'"
     ]
    }
   ],
   "source": [
    "main()"
   ]
  },
  {
   "cell_type": "code",
   "execution_count": null,
   "metadata": {},
   "outputs": [],
   "source": []
  },
  {
   "cell_type": "code",
   "execution_count": null,
   "metadata": {},
   "outputs": [],
   "source": []
  }
 ],
 "metadata": {
  "file_extension": ".py",
  "kernelspec": {
   "display_name": "Python 3",
   "language": "python",
   "name": "python3"
  },
  "language_info": {
   "codemirror_mode": {
    "name": "ipython",
    "version": 3
   },
   "file_extension": ".py",
   "mimetype": "text/x-python",
   "name": "python",
   "nbconvert_exporter": "python",
   "pygments_lexer": "ipython3",
   "version": "3.7.1"
  },
  "mimetype": "text/x-python",
  "name": "python",
  "npconvert_exporter": "python",
  "pygments_lexer": "ipython3",
  "version": 3
 },
 "nbformat": 4,
 "nbformat_minor": 2
}
