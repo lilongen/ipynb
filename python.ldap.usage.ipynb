{
 "cells": [
  {
   "cell_type": "code",
   "execution_count": 228,
   "metadata": {},
   "outputs": [],
   "source": [
    "from ruamel.yaml import YAML\n",
    "import ldap\n",
    "import re"
   ]
  },
  {
   "cell_type": "code",
   "execution_count": 229,
   "metadata": {},
   "outputs": [],
   "source": [
    "def get_info():\n",
    "    with open('ldap.yml', 'r') as f:\n",
    "        return YAML().load(f)"
   ]
  },
  {
   "cell_type": "code",
   "execution_count": 230,
   "metadata": {},
   "outputs": [
    {
     "data": {
      "text/plain": [
       "(97, [], 1, [])"
      ]
     },
     "execution_count": 230,
     "metadata": {},
     "output_type": "execute_result"
    }
   ],
   "source": [
    "info = get_info()\n",
    "l = ldap.initialize(info['url'])\n",
    "l.simple_bind_s(info['bind']['dn'], info['bind']['pw'])"
   ]
  },
  {
   "cell_type": "code",
   "execution_count": 255,
   "metadata": {},
   "outputs": [
    {
     "name": "stdout",
     "output_type": "stream",
     "text": [
      "ordereddict([('url', 'ldap://172.17.100.10:389/'), ('bind', ordereddict([('dn', 'tqy@domain.oceansoft'), ('pw', 'oceanitg2016!@#')])), ('base_dn', 'OU=云学堂,dc=domain,dc=oceansoft'), ('filter', '(&(objectCategory=person)(objectClass=user)(memberOf=cn=BDAI,OU=组,dc=domain,dc=oceansoft))'), ('attrs1', ['sAMAccountName', 'mail', 'mobile']), ('attrs2', ['sAMAccountName', 'mail', 'mobile'])])\n",
      "b'lile': CN=李龙恩,OU=大数据&DevOps,OU=技术研发,OU=云学堂,DC=domain,DC=oceansoft\n",
      "b'wangjd': CN=王佳冬,OU=大数据&DevOps,OU=技术研发,OU=云学堂,DC=domain,DC=oceansoft\n",
      "b'luoyw': CN=罗运伟,OU=大数据&DevOps,OU=技术研发,OU=云学堂,DC=domain,DC=oceansoft\n",
      "b'baosy': CN=鲍思远,OU=大数据&DevOps,OU=技术研发,OU=云学堂,DC=domain,DC=oceansoft\n",
      "b'liuzl': CN=刘增禄,OU=南京研发团队,OU=技术研发,OU=云学堂,DC=domain,DC=oceansoft\n",
      "b'wanglj': CN=王利军,OU=南京研发团队,OU=技术研发,OU=云学堂,DC=domain,DC=oceansoft\n",
      "b'guoqp': CN=郭秋平,OU=南京研发团队,OU=技术研发,OU=云学堂,DC=domain,DC=oceansoft\n",
      "b'liukl': CN=刘凯林,OU=大数据&DevOps,OU=技术研发,OU=云学堂,DC=domain,DC=oceansoft\n",
      "b'tangzx': CN=汤中新,OU=大数据&DevOps,OU=技术研发,OU=云学堂,DC=domain,DC=oceansoft\n",
      "b'maocy': CN=冒彩瑶,OU=大数据&DevOps,OU=技术研发,OU=云学堂,DC=domain,DC=oceansoft\n",
      "b'wangxt': CN=王新天,OU=大数据&DevOps,OU=技术研发,OU=云学堂,DC=domain,DC=oceansoft\n",
      "b'zhyu': CN=张宇,OU=大数据&DevOps,OU=技术研发,OU=云学堂,DC=domain,DC=oceansoft\n",
      "b'jingwz': CN=井文中,OU=大数据&DevOps,OU=技术研发,OU=云学堂,DC=domain,DC=oceansoft\n",
      "b'xuxt': CN=徐星涛,OU=大数据&DevOps,OU=技术研发,OU=云学堂,DC=domain,DC=oceansoft\n",
      "b'liuc': CN=刘楚,OU=南京研发团队,OU=技术研发,OU=云学堂,DC=domain,DC=oceansoft\n",
      "b'yujun': CN=余俊,OU=大数据&DevOps,OU=技术研发,OU=云学堂,DC=domain,DC=oceansoft\n",
      "b'sunxf': CN=孙献峰,OU=南京研发团队,OU=技术研发,OU=云学堂,DC=domain,DC=oceansoft\n",
      "b'suxj': CN=苏喜娟,OU=大数据&DevOps,OU=技术研发,OU=云学堂,DC=domain,DC=oceansoft\n",
      "b'yangwb': CN=杨伟彪,OU=大数据&DevOps,OU=技术研发,OU=云学堂,DC=domain,DC=oceansoft\n",
      "b'yyc': CN=杨祎聪,OU=大数据&DevOps,OU=技术研发,OU=云学堂,DC=domain,DC=oceansoft\n"
     ]
    }
   ],
   "source": [
    "print(info)\n",
    "\n",
    "search_res = l.search(info['base_dn'], ldap.SCOPE_SUBTREE, info['filter'], info['attrs1'])\n",
    "users = []\n",
    "while True:\n",
    "    result_type, result_data = l.result(search_res, 0)\n",
    "    if (len(result_data) == 0):\n",
    "        break\n",
    "    result_type == ldap.RES_SEARCH_ENTRY and users.append(result_data)\n",
    "\n",
    "for entry in users:\n",
    "    user_dn = entry[0][0]\n",
    "    user_id = entry[0][1]['sAMAccountName'][0]\n",
    "    print(\"{}: {}\".format(user_id, user_dn))\n",
    "\n",
    "    \n",
    "    \n",
    "\n",
    "#l.unbind_s()"
   ]
  },
  {
   "cell_type": "code",
   "execution_count": 116,
   "metadata": {},
   "outputs": [
    {
     "data": {
      "text/plain": [
       "1"
      ]
     },
     "execution_count": 116,
     "metadata": {},
     "output_type": "execute_result"
    }
   ],
   "source": [
    "a = {'a': 1, 'b': 2}\n",
    "a['a']"
   ]
  },
  {
   "cell_type": "code",
   "execution_count": 1,
   "metadata": {},
   "outputs": [
    {
     "data": {
      "text/plain": [
       "3"
      ]
     },
     "execution_count": 1,
     "metadata": {},
     "output_type": "execute_result"
    }
   ],
   "source": [
    "len(\"111\")"
   ]
  },
  {
   "cell_type": "code",
   "execution_count": 2,
   "metadata": {},
   "outputs": [
    {
     "data": {
      "text/plain": [
       "2"
      ]
     },
     "execution_count": 2,
     "metadata": {},
     "output_type": "execute_result"
    }
   ],
   "source": [
    "len([1,2])"
   ]
  },
  {
   "cell_type": "code",
   "execution_count": null,
   "metadata": {},
   "outputs": [],
   "source": []
  }
 ],
 "metadata": {
  "kernelspec": {
   "display_name": "Python 3",
   "language": "python",
   "name": "python3"
  },
  "language_info": {
   "codemirror_mode": {
    "name": "ipython",
    "version": 3
   },
   "file_extension": ".py",
   "mimetype": "text/x-python",
   "name": "python",
   "nbconvert_exporter": "python",
   "pygments_lexer": "ipython3",
   "version": "3.7.1"
  }
 },
 "nbformat": 4,
 "nbformat_minor": 2
}
