{
 "cells": [
  {
   "cell_type": "code",
   "execution_count": 182,
   "metadata": {},
   "outputs": [],
   "source": [
    "from ruamel.yaml import YAML\n",
    "import ldap\n",
    "import re\n",
    "import subprocess"
   ]
  },
  {
   "cell_type": "code",
   "execution_count": 183,
   "metadata": {},
   "outputs": [],
   "source": [
    "conf: dict\n",
    "l: int "
   ]
  },
  {
   "cell_type": "code",
   "execution_count": 184,
   "metadata": {},
   "outputs": [],
   "source": [
    "def get_conf():\n",
    "    global conf, l\n",
    "    with open('/Users/lilongen/cdh.security+ldap.yml', 'r') as f: conf = YAML().load(f)\n",
    "\n",
    "def bind_ldap():\n",
    "    global conf, l\n",
    "    ldap_conf = conf['ldap']\n",
    "    l = ldap.initialize(ldap_conf['url'])\n",
    "    l.simple_bind_s(ldap_conf['bind_dn'], ldap_conf['bind_pw'])\n",
    "\n",
    "def unbind_ldap():\n",
    "    global conf, l\n",
    "    l.unbind_s()"
   ]
  },
  {
   "cell_type": "code",
   "execution_count": 185,
   "metadata": {},
   "outputs": [],
   "source": [
    "def get_ldap_users():\n",
    "    global conf, l\n",
    "    re_1st_ou = re.compile(r'CN=[^,]+,OU=([^,]+),')\n",
    "    search_res = l.search(ldap_conf['base_dn'], ldap.SCOPE_SUBTREE, ldap_conf['filter'], ldap_conf['attrs'])\n",
    "    users = []\n",
    "    while True:\n",
    "        result_type, result_data = l.result(search_res, 0)\n",
    "        if (len(result_data) == 0):\n",
    "            break\n",
    "        result_type == ldap.RES_SEARCH_ENTRY and users.append(result_data)\n",
    "\n",
    "    user_ids = []\n",
    "\n",
    "    for entry in users:\n",
    "        user_dn = entry[0][0]\n",
    "        user_id = entry[0][1]['sAMAccountName'][0].decode()\n",
    "        user_1stou = re.match(re_1st_ou, user_dn).group(1)\n",
    "        user_ids.append(user_id)\n",
    "    conf['role']['g_dev']['user'] = user_ids"
   ]
  },
  {
   "cell_type": "code",
   "execution_count": 186,
   "metadata": {},
   "outputs": [],
   "source": [
    "def generate_group_user_directory_playbook():\n",
    "    global conf, l\n",
    "    playbook = []\n",
    "    for r_name, r in conf['role'].items():\n",
    "        playbook.append({\n",
    "            'name': 'Ensure group \"{}\" exists'.format(r_name),\n",
    "            'group': {\n",
    "                'name': r_name,\n",
    "                'state': 'present'\n",
    "            }\n",
    "        })\n",
    "        playbook.append({\n",
    "            'name': 'Ensure directory \"{}\" exists'.format(r['workspace']),\n",
    "            'file': {\n",
    "                'path': r['workspace'],\n",
    "                'state': 'directory',\n",
    "                'mode': '0755',\n",
    "                'group': r_name,\n",
    "            }\n",
    "        })\n",
    "\n",
    "        for u in r['user']:\n",
    "            playbook.append({\n",
    "                'name': 'User \"{}\" info'.format(u),\n",
    "                'user': {\n",
    "                    'name': u,\n",
    "                    'state': 'present',\n",
    "                    'group': r_name\n",
    "                }\n",
    "            })\n",
    "    \n",
    "    with open('/Users/lilongen/kerberos+ldap.yml', 'w') as f: YAML().dump(playbook, f)"
   ]
  },
  {
   "cell_type": "code",
   "execution_count": 186,
   "metadata": {},
   "outputs": [],
   "source": [
    "def get_presence_and_yaml_diff():\n",
    "    "
   ]
  },
  {
   "cell_type": "code",
   "execution_count": 187,
   "metadata": {},
   "outputs": [],
   "source": [
    "def generate_keytab():\n",
    "    global conf, l\n",
    "    cmd_tpl = 'kadmin -p {admin} -w {admin_pw} ktadd -k {keytab_to}/{username}.keytab'\n",
    "    cmds = ''\n",
    "    kadmin_vars = conf['kerberos']\n",
    "    for r_name, r in conf['role'].items():\n",
    "        for u in r['user']:\n",
    "            kadmin_vars['username'] = u\n",
    "            cmds += cmd_tpl.format(**kadmin_vars) + '\\n'\n",
    "    print(cmds)\n",
    "      "
   ]
  },
  {
   "cell_type": "code",
   "execution_count": 255,
   "metadata": {},
   "outputs": [],
   "source": [
    "def get_node_user_group():\n",
    "    global conf, l\n",
    "    host = conf['cluster']['sample_host']\n",
    "    result = subprocess.run(['ssh', 'root@{}'.format(host), \"grep g_ /etc/group | awk -F: '{print $1}'\"], stdout=subprocess.PIPE)\n",
    "    groups = result.stdout.decode().split('\\n')[0:-1]\n",
    "    group_users = {}\n",
    "    for g in groups:\n",
    "        result = subprocess.run(['ssh', 'root@{}'.format(host), 'lid -n -g {}'.format(g)], stdout=subprocess.PIPE)\n",
    "        group_users[g] = result.stdout.decode().split('\\n')[0:-1]\n",
    "    \n",
    "    conf['presence_role'] = group_users"
   ]
  },
  {
   "cell_type": "code",
   "execution_count": 256,
   "metadata": {},
   "outputs": [],
   "source": [
    "def main():\n",
    "    get_conf()\n",
    "    print(conf)\n",
    "    bind_ldap()\n",
    "    get_ldap_users()\n",
    "    get_node_user_group()\n",
    "    generate_group_user_directory_playbook()\n",
    "    generate_keytab()\n",
    "    get_node_user_group()\n",
    "    unbind_ldap()\n"
   ]
  },
  {
   "cell_type": "code",
   "execution_count": 257,
   "metadata": {},
   "outputs": [
    {
     "name": "stdout",
     "output_type": "stream",
     "text": [
      "ordereddict([('ldap', ordereddict([('url', 'ldap://221.224.33.71:389/'), ('intra_url', 'ldap://172.17.100.10:389/'), ('bind_dn', 'tqy@domain.oceansoft'), ('bind_pw', 'oceanitg2016!@#'), ('base_dn', 'OU=云学堂,dc=domain,dc=oceansoft'), ('filter', '(&(objectCategory=person)(objectClass=user)(memberOf=cn=BDAI,OU=组,dc=domain,dc=oceansoft))'), ('attrs', ['sAMAccountName', 'mail', 'mobile']), ('filter1', '(&(objectCategory=person)(objectClass=user)(|(department=大数据&DevOps)(department=南京研发团队)))'), ('attrs1', ['sAMAccountName', 'mail', 'mobile'])])), ('role', ordereddict([('g_dev', ordereddict([('user', None), ('workspace', '/wsdev')])), ('g_prod', ordereddict([('user', ['prt', 'pol']), ('workspace', '/wsprod')]))])), ('kerberos', ordereddict([('admin', 'root/admin'), ('admin_pw', 'Uydc.2910'), ('keytab_to', '/tmp')])), ('cluster', ordereddict([('sample_host', '10.200.70.101'), ('user', 'root')]))])\n",
      "kadmin -p root/admin -w Uydc.2910 ktadd -k /tmp/lile.keytab\n",
      "kadmin -p root/admin -w Uydc.2910 ktadd -k /tmp/wangjd.keytab\n",
      "kadmin -p root/admin -w Uydc.2910 ktadd -k /tmp/luoyw.keytab\n",
      "kadmin -p root/admin -w Uydc.2910 ktadd -k /tmp/baosy.keytab\n",
      "kadmin -p root/admin -w Uydc.2910 ktadd -k /tmp/liuzl.keytab\n",
      "kadmin -p root/admin -w Uydc.2910 ktadd -k /tmp/wanglj.keytab\n",
      "kadmin -p root/admin -w Uydc.2910 ktadd -k /tmp/guoqp.keytab\n",
      "kadmin -p root/admin -w Uydc.2910 ktadd -k /tmp/liukl.keytab\n",
      "kadmin -p root/admin -w Uydc.2910 ktadd -k /tmp/tangzx.keytab\n",
      "kadmin -p root/admin -w Uydc.2910 ktadd -k /tmp/maocy.keytab\n",
      "kadmin -p root/admin -w Uydc.2910 ktadd -k /tmp/wangxt.keytab\n",
      "kadmin -p root/admin -w Uydc.2910 ktadd -k /tmp/zhyu.keytab\n",
      "kadmin -p root/admin -w Uydc.2910 ktadd -k /tmp/jingwz.keytab\n",
      "kadmin -p root/admin -w Uydc.2910 ktadd -k /tmp/xuxt.keytab\n",
      "kadmin -p root/admin -w Uydc.2910 ktadd -k /tmp/liuc.keytab\n",
      "kadmin -p root/admin -w Uydc.2910 ktadd -k /tmp/yujun.keytab\n",
      "kadmin -p root/admin -w Uydc.2910 ktadd -k /tmp/sunxf.keytab\n",
      "kadmin -p root/admin -w Uydc.2910 ktadd -k /tmp/suxj.keytab\n",
      "kadmin -p root/admin -w Uydc.2910 ktadd -k /tmp/yangwb.keytab\n",
      "kadmin -p root/admin -w Uydc.2910 ktadd -k /tmp/yyc.keytab\n",
      "kadmin -p root/admin -w Uydc.2910 ktadd -k /tmp/prt.keytab\n",
      "kadmin -p root/admin -w Uydc.2910 ktadd -k /tmp/pol.keytab\n",
      "\n",
      "['g_dev', 'g_prod']\n",
      "{'g_dev': [' lile', ' wangjd', ' luoyw', ' baosy', ' liuzl', ' wanglj', ' guoqp', ' liukl', ' tangzx', ' maocy', ' wangxt', ' zhyu', ' jingwz', ' xuxt', ' liuc', ' yujun', ' sunxf', ' suxj', ' yangwb', ' yyc'], 'g_prod': [' prt', ' pol']}\n"
     ]
    }
   ],
   "source": [
    "main()"
   ]
  },
  {
   "cell_type": "code",
   "execution_count": null,
   "metadata": {},
   "outputs": [],
   "source": []
  },
  {
   "cell_type": "code",
   "execution_count": null,
   "metadata": {},
   "outputs": [],
   "source": []
  }
 ],
 "metadata": {
  "kernelspec": {
   "display_name": "Python 3",
   "language": "python",
   "name": "python3"
  },
  "language_info": {
   "codemirror_mode": {
    "name": "ipython",
    "version": 3
   },
   "file_extension": ".py",
   "mimetype": "text/x-python",
   "name": "python",
   "nbconvert_exporter": "python",
   "pygments_lexer": "ipython3",
   "version": "3.7.1"
  }
 },
 "nbformat": 4,
 "nbformat_minor": 2
}
