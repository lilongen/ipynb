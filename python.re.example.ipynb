{
 "cells": [
  {
   "cell_type": "code",
   "execution_count": 34,
   "metadata": {},
   "outputs": [],
   "source": [
    "import time\n",
    "import uuid\n",
    "import re"
   ]
  },
  {
   "cell_type": "code",
   "execution_count": 35,
   "metadata": {},
   "outputs": [],
   "source": [
    "def g_uuid(cnt):\n",
    "    t0 = time.time()\n",
    "    for i in range(cnt):\n",
    "        uuid.uuid1()\n",
    "    t1 = time.time()\n",
    "    cost = t1 - t0\n",
    "    print('%f, %f' % (cost, cost / cnt))"
   ]
  },
  {
   "cell_type": "code",
   "execution_count": 36,
   "metadata": {},
   "outputs": [],
   "source": [
    "operators = {\n",
    "    '+':            'TOKEN_ADD',\n",
    "    '-':            'TOKEN_SUB',\n",
    "    '/':            'TOKEN_DIV',\n",
    "    '//':           'TOKEN_FLOORDIV',\n",
    "    '*':            'TOKEN_MUL',\n",
    "    '%':            'TOKEN_MOD',\n",
    "    '**':           'TOKEN_POW',\n",
    "    '~':            'TOKEN_TILDE',\n",
    "    '[':            'TOKEN_LBRACKET',\n",
    "    ']':            'TOKEN_RBRACKET',\n",
    "    '(':            'TOKEN_LPAREN',\n",
    "    ')':            'TOKEN_RPAREN',\n",
    "    '{':            'TOKEN_LBRACE',\n",
    "    '}':            'TOKEN_RBRACE',\n",
    "    '==':           'TOKEN_EQ',\n",
    "    '!=':           'TOKEN_NE',\n",
    "    '>':            'TOKEN_GT',\n",
    "    '>=':           'TOKEN_GTEQ',\n",
    "    '<':            'TOKEN_LT',\n",
    "    '<=':           'TOKEN_LTEQ',\n",
    "    '=':            'TOKEN_ASSIGN',\n",
    "    '.':            'TOKEN_DOT',\n",
    "    ':':            'TOKEN_COLON',\n",
    "    '|':            'TOKEN_PIPE',\n",
    "    ',':            'TOKEN_COMMA',\n",
    "    ';':            'TOKEN_SEMICOLON'\n",
    "}"
   ]
  },
  {
   "cell_type": "markdown",
   "metadata": {},
   "source": [
    "dir(uuid)"
   ]
  },
  {
   "cell_type": "code",
   "execution_count": 37,
   "metadata": {},
   "outputs": [],
   "source": [
    "operator_re = re.compile('(%s)' % '|'.join(re.escape(x) for x in\n",
    "                         sorted(operators, key=lambda x: -len(x))))"
   ]
  },
  {
   "cell_type": "code",
   "execution_count": 38,
   "metadata": {},
   "outputs": [
    {
     "data": {
      "text/plain": [
       "re.compile(r'(//|\\*\\*|==|!=|>=|<=|\\+|\\-|/|\\*|%|\\~|\\[|\\]|\\(|\\)|\\{|\\}|>|<|=|\\.|:|\\||,|;)',\n",
       "re.UNICODE)"
      ]
     },
     "execution_count": 38,
     "metadata": {},
     "output_type": "execute_result"
    }
   ],
   "source": [
    "operator_re"
   ]
  },
  {
   "cell_type": "code",
   "execution_count": 39,
   "metadata": {},
   "outputs": [],
   "source": [
    "a = lambda x: -len(x)"
   ]
  },
  {
   "cell_type": "code",
   "execution_count": 40,
   "metadata": {},
   "outputs": [
    {
     "data": {
      "text/plain": [
       "-2"
      ]
     },
     "execution_count": 40,
     "metadata": {},
     "output_type": "execute_result"
    }
   ],
   "source": [
    "a('<=')"
   ]
  },
  {
   "cell_type": "code",
   "execution_count": null,
   "metadata": {},
   "outputs": [],
   "source": []
  }
 ],
 "metadata": {
  "kernelspec": {
   "display_name": "Python 3",
   "language": "python",
   "name": "python3"
  },
  "language_info": {
   "codemirror_mode": {
    "name": "ipython",
    "version": 3
   },
   "file_extension": ".py",
   "mimetype": "text/x-python",
   "name": "python",
   "nbconvert_exporter": "python",
   "pygments_lexer": "ipython3",
   "version": "3.6.8"
  }
 },
 "nbformat": 4,
 "nbformat_minor": 2
}
